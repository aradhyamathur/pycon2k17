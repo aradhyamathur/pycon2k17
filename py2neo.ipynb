{
 "cells": [
  {
   "cell_type": "markdown",
   "metadata": {},
   "source": [
    "### Initialise Graph"
   ]
  },
  {
   "cell_type": "code",
   "execution_count": 15,
   "metadata": {
    "collapsed": true
   },
   "outputs": [],
   "source": [
    "from py2neo import Graph,Node, Relationship\n",
    "from py2neo import NodeSelector\n",
    "graph = Graph('http://127.0.0.1:7474/db/data',password='pass1234' , bolt=False)"
   ]
  },
  {
   "cell_type": "markdown",
   "metadata": {},
   "source": [
    "### NodeSelector\n",
    "Can be used to locate nodes that\n",
    "fulfil a specific set of criteria. Typically, a single node can be\n",
    "identified passing a specific label and property key-value pair."
   ]
  },
  {
   "cell_type": "code",
   "execution_count": 5,
   "metadata": {
    "collapsed": true
   },
   "outputs": [],
   "source": [
    "selector = NodeSelector(graph)"
   ]
  },
  {
   "cell_type": "code",
   "execution_count": 9,
   "metadata": {
    "collapsed": true
   },
   "outputs": [],
   "source": [
    "node = selector.select(\"Username\", val=\"hello\")"
   ]
  },
  {
   "cell_type": "code",
   "execution_count": 10,
   "metadata": {},
   "outputs": [
    {
     "data": {
      "text/plain": [
       "(b04c8ad:Username {val:\"hello\"})"
      ]
     },
     "execution_count": 10,
     "metadata": {},
     "output_type": "execute_result"
    }
   ],
   "source": [
    "node.first()"
   ]
  },
  {
   "cell_type": "markdown",
   "metadata": {},
   "source": [
    "### Creating Node"
   ]
  },
  {
   "cell_type": "code",
   "execution_count": 13,
   "metadata": {
    "collapsed": true
   },
   "outputs": [],
   "source": [
    "a = Node(\"Person\", name=\"Alice\") # create a node object \n",
    "graph.create(a ) # call to graph create to commit it \n"
   ]
  },
  {
   "cell_type": "code",
   "execution_count": 25,
   "metadata": {},
   "outputs": [
    {
     "name": "stdout",
     "output_type": "stream",
     "text": [
      "(alice:Person {name:\"Alice\"})\n"
     ]
    }
   ],
   "source": [
    "print(a)"
   ]
  },
  {
   "cell_type": "code",
   "execution_count": 29,
   "metadata": {},
   "outputs": [
    {
     "name": "stdout",
     "output_type": "stream",
     "text": [
      "dict_keys(['name'])\n"
     ]
    }
   ],
   "source": []
  },
  {
   "cell_type": "markdown",
   "metadata": {},
   "source": [
    "### Creating a Relationship"
   ]
  },
  {
   "cell_type": "markdown",
   "metadata": {},
   "source": [
    "A relationship represents a typed connection between a pair of nodes."
   ]
  },
  {
   "cell_type": "code",
   "execution_count": 38,
   "metadata": {
    "collapsed": true
   },
   "outputs": [],
   "source": [
    "node = selector.select(\"Person\", name=\"Alice\").first()"
   ]
  },
  {
   "cell_type": "code",
   "execution_count": 37,
   "metadata": {},
   "outputs": [
    {
     "name": "stdout",
     "output_type": "stream",
     "text": [
      "(alice:Person {name:\"Alice\"})\n"
     ]
    }
   ],
   "source": [
    "print(node.first())"
   ]
  },
  {
   "cell_type": "code",
   "execution_count": 24,
   "metadata": {},
   "outputs": [
    {
     "name": "stdout",
     "output_type": "stream",
     "text": [
      "[(alice:Person {name:\"Alice\"})]\n"
     ]
    }
   ],
   "source": [
    "print(list(node))"
   ]
  },
  {
   "cell_type": "code",
   "execution_count": 18,
   "metadata": {},
   "outputs": [
    {
     "name": "stdout",
     "output_type": "stream",
     "text": [
      "(john)-[:FATHER]->(cce82fb)\n"
     ]
    }
   ],
   "source": [
    "b = Node(\"Person\", name=\"John\")\n",
    "father = Relationship(b,\"FATHER\",node)\n",
    "print(father)"
   ]
  },
  {
   "cell_type": "code",
   "execution_count": 19,
   "metadata": {
    "collapsed": true
   },
   "outputs": [],
   "source": [
    "graph.create(father)"
   ]
  },
  {
   "cell_type": "code",
   "execution_count": 40,
   "metadata": {
    "collapsed": true
   },
   "outputs": [],
   "source": [
    "for rel in graph.match(start_node=node, rel_type=\"FATHER\"):\n",
    "    print(rel.end_node.properties[\"name\"])"
   ]
  },
  {
   "cell_type": "code",
   "execution_count": 46,
   "metadata": {},
   "outputs": [
    {
     "name": "stdout",
     "output_type": "stream",
     "text": [
      "(cce82fb {name:\"Alice\"})\n"
     ]
    }
   ],
   "source": [
    "for rel in graph.match(start_node=b, rel_type=\"FATHER\"):\n",
    "    node = rel.end_node()\n",
    "    print(node)"
   ]
  },
  {
   "cell_type": "markdown",
   "metadata": {},
   "source": [
    "### Creating Schema Constraints"
   ]
  },
  {
   "cell_type": "code",
   "execution_count": 47,
   "metadata": {
    "collapsed": true
   },
   "outputs": [],
   "source": [
    "graph.schema.create_uniqueness_constraint(\"User\", \"id\")"
   ]
  },
  {
   "cell_type": "code",
   "execution_count": 48,
   "metadata": {
    "collapsed": true
   },
   "outputs": [],
   "source": [
    "node = Node(\"User\", id=2)"
   ]
  },
  {
   "cell_type": "code",
   "execution_count": 49,
   "metadata": {
    "collapsed": true
   },
   "outputs": [],
   "source": [
    "graph.create(node)"
   ]
  },
  {
   "cell_type": "code",
   "execution_count": 50,
   "metadata": {
    "collapsed": true
   },
   "outputs": [],
   "source": [
    "node = Node(\"User\", id=2)"
   ]
  },
  {
   "cell_type": "markdown",
   "metadata": {},
   "source": [
    "## When constraint violation occurs a constraint error is thrown"
   ]
  },
  {
   "cell_type": "code",
   "execution_count": 51,
   "metadata": {},
   "outputs": [
    {
     "ename": "ConstraintError",
     "evalue": "Node 7 already exists with label User and property \"id\"=[2]",
     "output_type": "error",
     "traceback": [
      "\u001b[0;31m----------------------------------------------------------------------\u001b[0m",
      "\u001b[0;31mConstraintError\u001b[0m                      Traceback (most recent call last)",
      "\u001b[0;32m<ipython-input-51-c02e3442a83b>\u001b[0m in \u001b[0;36m<module>\u001b[0;34m()\u001b[0m\n\u001b[0;32m----> 1\u001b[0;31m \u001b[0mgraph\u001b[0m\u001b[0;34m.\u001b[0m\u001b[0mcreate\u001b[0m\u001b[0;34m(\u001b[0m\u001b[0mnode\u001b[0m\u001b[0;34m)\u001b[0m\u001b[0;34m\u001b[0m\u001b[0m\n\u001b[0m",
      "\u001b[0;32m~/djenv3.6/lib/python3.6/site-packages/py2neo/database/__init__.py\u001b[0m in \u001b[0;36mcreate\u001b[0;34m(self, subgraph)\u001b[0m\n\u001b[1;32m    377\u001b[0m                        \u001b[0;34m:\u001b[0m\u001b[0;32mclass\u001b[0m\u001b[0;34m:\u001b[0m\u001b[0;31m`\u001b[0m\u001b[0;34m.\u001b[0m\u001b[0mSubgraph\u001b[0m\u001b[0;31m`\u001b[0m\u001b[0;34m\u001b[0m\u001b[0m\n\u001b[1;32m    378\u001b[0m         \"\"\"\n\u001b[0;32m--> 379\u001b[0;31m         \u001b[0mself\u001b[0m\u001b[0;34m.\u001b[0m\u001b[0mbegin\u001b[0m\u001b[0;34m(\u001b[0m\u001b[0mautocommit\u001b[0m\u001b[0;34m=\u001b[0m\u001b[0;32mTrue\u001b[0m\u001b[0;34m)\u001b[0m\u001b[0;34m.\u001b[0m\u001b[0mcreate\u001b[0m\u001b[0;34m(\u001b[0m\u001b[0msubgraph\u001b[0m\u001b[0;34m)\u001b[0m\u001b[0;34m\u001b[0m\u001b[0m\n\u001b[0m\u001b[1;32m    380\u001b[0m \u001b[0;34m\u001b[0m\u001b[0m\n\u001b[1;32m    381\u001b[0m     \u001b[0;32mdef\u001b[0m \u001b[0mdata\u001b[0m\u001b[0;34m(\u001b[0m\u001b[0mself\u001b[0m\u001b[0;34m,\u001b[0m \u001b[0mstatement\u001b[0m\u001b[0;34m,\u001b[0m \u001b[0mparameters\u001b[0m\u001b[0;34m=\u001b[0m\u001b[0;32mNone\u001b[0m\u001b[0;34m,\u001b[0m \u001b[0;34m**\u001b[0m\u001b[0mkwparameters\u001b[0m\u001b[0;34m)\u001b[0m\u001b[0;34m:\u001b[0m\u001b[0;34m\u001b[0m\u001b[0m\n",
      "\u001b[0;32m~/djenv3.6/lib/python3.6/site-packages/py2neo/database/__init__.py\u001b[0m in \u001b[0;36mcreate\u001b[0;34m(self, subgraph)\u001b[0m\n\u001b[1;32m   1097\u001b[0m         \"\"\"\n\u001b[1;32m   1098\u001b[0m         \u001b[0;32mtry\u001b[0m\u001b[0;34m:\u001b[0m\u001b[0;34m\u001b[0m\u001b[0m\n\u001b[0;32m-> 1099\u001b[0;31m             \u001b[0msubgraph\u001b[0m\u001b[0;34m.\u001b[0m\u001b[0m__db_create__\u001b[0m\u001b[0;34m(\u001b[0m\u001b[0mself\u001b[0m\u001b[0;34m)\u001b[0m\u001b[0;34m\u001b[0m\u001b[0m\n\u001b[0m\u001b[1;32m   1100\u001b[0m         \u001b[0;32mexcept\u001b[0m \u001b[0mAttributeError\u001b[0m\u001b[0;34m:\u001b[0m\u001b[0;34m\u001b[0m\u001b[0m\n\u001b[1;32m   1101\u001b[0m             \u001b[0;32mraise\u001b[0m \u001b[0mTypeError\u001b[0m\u001b[0;34m(\u001b[0m\u001b[0;34m\"No method defined to create object %r\"\u001b[0m \u001b[0;34m%\u001b[0m \u001b[0msubgraph\u001b[0m\u001b[0;34m)\u001b[0m\u001b[0;34m\u001b[0m\u001b[0m\n",
      "\u001b[0;32m~/djenv3.6/lib/python3.6/site-packages/py2neo/types.py\u001b[0m in \u001b[0;36m__db_create__\u001b[0;34m(self, tx)\u001b[0m\n\u001b[1;32m    327\u001b[0m         \u001b[0mstatement\u001b[0m \u001b[0;34m=\u001b[0m \u001b[0;34m\"\\n\"\u001b[0m\u001b[0;34m.\u001b[0m\u001b[0mjoin\u001b[0m\u001b[0;34m(\u001b[0m\u001b[0mreads\u001b[0m \u001b[0;34m+\u001b[0m \u001b[0mwrites\u001b[0m \u001b[0;34m+\u001b[0m \u001b[0;34m[\u001b[0m\u001b[0;34m\"RETURN %s LIMIT 1\"\u001b[0m \u001b[0;34m%\u001b[0m \u001b[0;34m\", \"\u001b[0m\u001b[0;34m.\u001b[0m\u001b[0mjoin\u001b[0m\u001b[0;34m(\u001b[0m\u001b[0mreturns\u001b[0m\u001b[0;34m)\u001b[0m\u001b[0;34m]\u001b[0m\u001b[0;34m)\u001b[0m\u001b[0;34m\u001b[0m\u001b[0m\n\u001b[1;32m    328\u001b[0m         \u001b[0mtx\u001b[0m\u001b[0;34m.\u001b[0m\u001b[0mentities\u001b[0m\u001b[0;34m.\u001b[0m\u001b[0mappend\u001b[0m\u001b[0;34m(\u001b[0m\u001b[0mreturns\u001b[0m\u001b[0;34m)\u001b[0m\u001b[0;34m\u001b[0m\u001b[0m\n\u001b[0;32m--> 329\u001b[0;31m         \u001b[0mtx\u001b[0m\u001b[0;34m.\u001b[0m\u001b[0mrun\u001b[0m\u001b[0;34m(\u001b[0m\u001b[0mstatement\u001b[0m\u001b[0;34m,\u001b[0m \u001b[0mparameters\u001b[0m\u001b[0;34m)\u001b[0m\u001b[0;34m\u001b[0m\u001b[0m\n\u001b[0m\u001b[1;32m    330\u001b[0m \u001b[0;34m\u001b[0m\u001b[0m\n\u001b[1;32m    331\u001b[0m     \u001b[0;32mdef\u001b[0m \u001b[0m__db_degree__\u001b[0m\u001b[0;34m(\u001b[0m\u001b[0mself\u001b[0m\u001b[0;34m,\u001b[0m \u001b[0mtx\u001b[0m\u001b[0;34m)\u001b[0m\u001b[0;34m:\u001b[0m\u001b[0;34m\u001b[0m\u001b[0m\n",
      "\u001b[0;32m~/djenv3.6/lib/python3.6/site-packages/py2neo/database/__init__.py\u001b[0m in \u001b[0;36mrun\u001b[0;34m(self, statement, parameters, **kwparameters)\u001b[0m\n\u001b[1;32m   1206\u001b[0m         \u001b[0mself\u001b[0m\u001b[0;34m.\u001b[0m\u001b[0msources\u001b[0m\u001b[0;34m.\u001b[0m\u001b[0mappend\u001b[0m\u001b[0;34m(\u001b[0m\u001b[0msource\u001b[0m\u001b[0;34m)\u001b[0m\u001b[0;34m\u001b[0m\u001b[0m\n\u001b[1;32m   1207\u001b[0m         \u001b[0;32mif\u001b[0m \u001b[0mself\u001b[0m\u001b[0;34m.\u001b[0m\u001b[0mautocommit\u001b[0m\u001b[0;34m:\u001b[0m\u001b[0;34m\u001b[0m\u001b[0m\n\u001b[0;32m-> 1208\u001b[0;31m             \u001b[0mself\u001b[0m\u001b[0;34m.\u001b[0m\u001b[0mcommit\u001b[0m\u001b[0;34m(\u001b[0m\u001b[0;34m)\u001b[0m\u001b[0;34m\u001b[0m\u001b[0m\n\u001b[0m\u001b[1;32m   1209\u001b[0m         \u001b[0;32mreturn\u001b[0m \u001b[0mcursor\u001b[0m\u001b[0;34m\u001b[0m\u001b[0m\n\u001b[1;32m   1210\u001b[0m \u001b[0;34m\u001b[0m\u001b[0m\n",
      "\u001b[0;32m~/djenv3.6/lib/python3.6/site-packages/py2neo/database/__init__.py\u001b[0m in \u001b[0;36mcommit\u001b[0;34m(self)\u001b[0m\n\u001b[1;32m   1057\u001b[0m         \"\"\" Commit the transaction.\n\u001b[1;32m   1058\u001b[0m         \"\"\"\n\u001b[0;32m-> 1059\u001b[0;31m         \u001b[0mself\u001b[0m\u001b[0;34m.\u001b[0m\u001b[0m_post\u001b[0m\u001b[0;34m(\u001b[0m\u001b[0mcommit\u001b[0m\u001b[0;34m=\u001b[0m\u001b[0;32mTrue\u001b[0m\u001b[0;34m)\u001b[0m\u001b[0;34m\u001b[0m\u001b[0m\n\u001b[0m\u001b[1;32m   1060\u001b[0m \u001b[0;34m\u001b[0m\u001b[0m\n\u001b[1;32m   1061\u001b[0m     \u001b[0;32mdef\u001b[0m \u001b[0mrollback\u001b[0m\u001b[0;34m(\u001b[0m\u001b[0mself\u001b[0m\u001b[0;34m)\u001b[0m\u001b[0;34m:\u001b[0m\u001b[0;34m\u001b[0m\u001b[0m\n",
      "\u001b[0;32m~/djenv3.6/lib/python3.6/site-packages/py2neo/database/__init__.py\u001b[0m in \u001b[0;36m_post\u001b[0;34m(self, commit)\u001b[0m\n\u001b[1;32m   1228\u001b[0m             \u001b[0mself\u001b[0m\u001b[0;34m.\u001b[0m\u001b[0m_commit\u001b[0m \u001b[0;34m=\u001b[0m \u001b[0mResource\u001b[0m\u001b[0;34m(\u001b[0m\u001b[0mraw\u001b[0m\u001b[0;34m[\u001b[0m\u001b[0;34m\"commit\"\u001b[0m\u001b[0;34m]\u001b[0m\u001b[0;34m)\u001b[0m\u001b[0;34m\u001b[0m\u001b[0m\n\u001b[1;32m   1229\u001b[0m         \u001b[0;32mfor\u001b[0m \u001b[0mraw_error\u001b[0m \u001b[0;32min\u001b[0m \u001b[0mraw\u001b[0m\u001b[0;34m[\u001b[0m\u001b[0;34m\"errors\"\u001b[0m\u001b[0;34m]\u001b[0m\u001b[0;34m:\u001b[0m\u001b[0;34m\u001b[0m\u001b[0m\n\u001b[0;32m-> 1230\u001b[0;31m             \u001b[0;32mraise\u001b[0m \u001b[0mGraphError\u001b[0m\u001b[0;34m.\u001b[0m\u001b[0mhydrate\u001b[0m\u001b[0;34m(\u001b[0m\u001b[0mraw_error\u001b[0m\u001b[0;34m)\u001b[0m\u001b[0;34m\u001b[0m\u001b[0m\n\u001b[0m\u001b[1;32m   1231\u001b[0m         \u001b[0;32mfor\u001b[0m \u001b[0mraw_result\u001b[0m \u001b[0;32min\u001b[0m \u001b[0mraw\u001b[0m\u001b[0;34m[\u001b[0m\u001b[0;34m\"results\"\u001b[0m\u001b[0;34m]\u001b[0m\u001b[0;34m:\u001b[0m\u001b[0;34m\u001b[0m\u001b[0m\n\u001b[1;32m   1232\u001b[0m             \u001b[0msource\u001b[0m \u001b[0;34m=\u001b[0m \u001b[0mself\u001b[0m\u001b[0;34m.\u001b[0m\u001b[0msources\u001b[0m\u001b[0;34m.\u001b[0m\u001b[0mpop\u001b[0m\u001b[0;34m(\u001b[0m\u001b[0;36m0\u001b[0m\u001b[0;34m)\u001b[0m\u001b[0;34m\u001b[0m\u001b[0m\n",
      "\u001b[0;31mConstraintError\u001b[0m: Node 7 already exists with label User and property \"id\"=[2]"
     ]
    }
   ],
   "source": [
    "graph.create(node)"
   ]
  },
  {
   "cell_type": "markdown",
   "metadata": {},
   "source": [
    "### Running Raw Queries"
   ]
  },
  {
   "cell_type": "code",
   "execution_count": 53,
   "metadata": {},
   "outputs": [],
   "source": [
    "cursor = graph.run(\"match (x:Person) where x.name={name} return x\", name=\"Alice\")"
   ]
  },
  {
   "cell_type": "code",
   "execution_count": 55,
   "metadata": {},
   "outputs": [
    {
     "name": "stdout",
     "output_type": "stream",
     "text": [
      "[{'x': (alice:Person {name:\"Alice\"})}]\n"
     ]
    }
   ],
   "source": [
    "print(cursor.data())"
   ]
  },
  {
   "cell_type": "code",
   "execution_count": 63,
   "metadata": {},
   "outputs": [],
   "source": [
    "cursor = graph.run('create(x:Person {name:\"Rob\"}) return x')"
   ]
  },
  {
   "cell_type": "code",
   "execution_count": 64,
   "metadata": {},
   "outputs": [
    {
     "name": "stdout",
     "output_type": "stream",
     "text": [
      "[{'x': (b7246cd:Person {name:\"Rob\"})}]\n"
     ]
    }
   ],
   "source": [
    "print(cursor.data())"
   ]
  },
  {
   "cell_type": "code",
   "execution_count": 67,
   "metadata": {},
   "outputs": [
    {
     "name": "stdout",
     "output_type": "stream",
     "text": [
      "('x',)\n"
     ]
    }
   ],
   "source": [
    "print(cursor.keys())"
   ]
  },
  {
   "cell_type": "code",
   "execution_count": 69,
   "metadata": {},
   "outputs": [
    {
     "name": "stdout",
     "output_type": "stream",
     "text": [
      "[{'x': (alice:Person {name:\"Alice\"})}, {'x': (john:Person {name:\"John\"})}, {'x': (b7246cd:Person {name:\"Rob\"})}]\n"
     ]
    }
   ],
   "source": [
    "cursor = graph.run(\"match (x:Person) return x\")\n",
    "print(cursor.data())"
   ]
  },
  {
   "cell_type": "code",
   "execution_count": 70,
   "metadata": {
    "collapsed": true
   },
   "outputs": [],
   "source": []
  },
  {
   "cell_type": "code",
   "execution_count": null,
   "metadata": {
    "collapsed": true
   },
   "outputs": [],
   "source": []
  },
  {
   "cell_type": "code",
   "execution_count": null,
   "metadata": {
    "collapsed": true
   },
   "outputs": [],
   "source": []
  },
  {
   "cell_type": "code",
   "execution_count": null,
   "metadata": {
    "collapsed": true
   },
   "outputs": [],
   "source": []
  },
  {
   "cell_type": "code",
   "execution_count": null,
   "metadata": {
    "collapsed": true
   },
   "outputs": [],
   "source": []
  },
  {
   "cell_type": "code",
   "execution_count": null,
   "metadata": {
    "collapsed": true
   },
   "outputs": [],
   "source": []
  },
  {
   "cell_type": "code",
   "execution_count": null,
   "metadata": {
    "collapsed": true
   },
   "outputs": [],
   "source": []
  },
  {
   "cell_type": "markdown",
   "metadata": {},
   "source": [
    "# Graph INIT"
   ]
  },
  {
   "cell_type": "code",
   "execution_count": null,
   "metadata": {
    "collapsed": true
   },
   "outputs": [],
   "source": [
    "from py2neo import NodeSelector,Graph,Node,GraphDatabase ,Cursor, Relationship\n",
    "graph = Graph('http://127.0.0.1:7474/db/data',password='pass1234' , bolt=False)\n",
    "selector = NodeSelector(graph)\n",
    "# user_node = selector.select(\"XaudioUser\",fb_id='1076559979087038').first()"
   ]
  },
  {
   "cell_type": "code",
   "execution_count": null,
   "metadata": {
    "collapsed": true
   },
   "outputs": [],
   "source": [
    "song_node = Node(\"Song\", songname='song2', artist=\"test_artist\")\n",
    "user_node = selector.select(\"XaudioUser\", user_id=95).first()\n",
    "print user_node\n",
    "LIB_NODE = Node(\"Library\")\n",
    "print dict(user_node)['user_id']\n",
    "user_id = {'user_id':dict(user_node)['user_id']}\n",
    "print user_id\n",
    "# graph.create(song_node)"
   ]
  },
  {
   "cell_type": "code",
   "execution_count": null,
   "metadata": {
    "collapsed": true
   },
   "outputs": [],
   "source": [
    "lib_node = graph.evaluate(\"match (x:XaudioUser) , \\\n",
    "                          (x:XaudioUser)-[:LISTENS_TO]->(lib) where x.user_id=95 \\\n",
    "                          return lib\")\n",
    "print lib_node\n",
    "graph.create(song_node)\n",
    "print dict(song_node)\n",
    "rel = Relationship(lib_node,\"HAS\",song_node)\n",
    "# graph.create(rel)\n",
    "# graph.delete(song_node)\n",
    "print rel"
   ]
  },
  {
   "cell_type": "markdown",
   "metadata": {},
   "source": [
    "## Adding user song "
   ]
  },
  {
   "cell_type": "code",
   "execution_count": null,
   "metadata": {
    "collapsed": true
   },
   "outputs": [],
   "source": [
    "from py2neo import Node, Relationship, Graph\n",
    "# graph = Graph('http://127.0.0.1:7474/db/data',password='pass1234')\n",
    "# alice = Node(\"Person\", name=\"Alice\")\n",
    "# bob = Node(\"Person\", name=\"Bob\")\n",
    "# alice_knows_bob = Relationship(alice, \"KNOWS\", bob, since=1999)\n",
    "# graph.create(alice_knows_bob)\n",
    "\n",
    "song_node = Node(\"Song\", songname='song2', artist=\"test_artist\")\n",
    "user_node = selector.select(\"XaudioUser\", user_id=98).first()\n",
    "print user_node\n",
    "LIB_NODE = Node(\"Library\")\n",
    "print dict(user_node)['user_id']\n",
    "user_id = {'user_id':dict(user_node)['user_id']}\n",
    "print user_id\n",
    "\n",
    "\n",
    "lib_node = graph.evaluate(\"match (x:XaudioUser) , \\\n",
    "                          (x:XaudioUser)-[:LISTENS_TO]->(lib) where x.user_id=98 \\\n",
    "                          return lib\")\n",
    "print lib_node\n",
    "graph.create(song_node)\n",
    "print dict(song_node)\n",
    "rel = Relationship(lib_node,\"HAS\",song_node)\n",
    "# graph.create(rel)\n",
    "# graph.delete(song_node)\n",
    "print rel\n",
    "\n",
    "graph.create(rel)"
   ]
  },
  {
   "cell_type": "code",
   "execution_count": null,
   "metadata": {
    "collapsed": true
   },
   "outputs": [],
   "source": [
    "from py2neo import Node, Relationship, Graph\n",
    "# graph = Graph('http://127.0.0.1:7474/db/data',password='pass1234')\n",
    "# alice = Node(\"Person\", name=\"Alice\")\n",
    "# bob = Node(\"Person\", name=\"Bob\")\n",
    "# alice_knows_bob = Relationship(alice, \"KNOWS\", bob, since=1999)\n",
    "# graph.create(alice_knows_bob)\n",
    "\n",
    "song_node = Node(\"Song\", songname='song2', artist=\"test_artist\")\n",
    "user_node = selector.select(\"XaudioUser\", user_id=98).first()\n",
    "print user_node\n",
    "LIB_NODE = Node(\"Library\")\n",
    "print dict(user_node)['user_id']\n",
    "user_id = (user_node)['user_id']\n",
    "print user_id\n",
    "\n",
    "\n",
    "lib_node = graph.evaluate(\"match (x:XaudioUser) , \\\n",
    "                          (x:XaudioUser)-[:LISTENS_TO]->(lib) where x.user_id={user_id} \\\n",
    "                          return lib\", user_id=user_id)\n",
    "print lib_node\n",
    "# graph.create(song_node)\n",
    "print dict(song_node)\n",
    "rel = Relationship(lib_node,\"HAS\",song_node)\n",
    "# graph.create(rel)\n",
    "# graph.delete(song_node)\n",
    "# print rel\n",
    "\n",
    "graph.create(rel)"
   ]
  },
  {
   "cell_type": "markdown",
   "metadata": {},
   "source": [
    "## Getting Songs from user "
   ]
  },
  {
   "cell_type": "code",
   "execution_count": null,
   "metadata": {
    "collapsed": true
   },
   "outputs": [],
   "source": [
    "user_node = selector.select(\"XaudioUser\", user_id=98).first()\n",
    "print dict(user_node)['user_id']\n",
    "user_id = (user_node)['user_id']\n",
    "lib_node = graph.evaluate(\"match (x:XaudioUser)-[:LISTENS_TO]-(lib) where x.user_id={user_id} return lib\", user_id=user_id)\n",
    "print lib_node"
   ]
  },
  {
   "cell_type": "code",
   "execution_count": null,
   "metadata": {
    "collapsed": true
   },
   "outputs": [],
   "source": [
    "songs = graph.run(\"match (x:XaudioUser)-[:LISTENS_TO]->(LIB) , (LIB)-[:HAS]->(s)  where x.user_id=98 return s \")\n",
    "# print list(songs)\n",
    "# print len(songs.data())\n",
    "song_list = []\n",
    "for song in songs:\n",
    "    song = song['s']\n",
    "    print dict(song)\n",
    "    song_list.append(dict(song))\n",
    "print song_list\n",
    "\n",
    "print len(song_list)"
   ]
  },
  {
   "cell_type": "code",
   "execution_count": null,
   "metadata": {
    "collapsed": true
   },
   "outputs": [],
   "source": [
    "for song in song_list:\n",
    "    if song['songname'] == 'song2':\n",
    "        print \"exists\""
   ]
  },
  {
   "cell_type": "code",
   "execution_count": null,
   "metadata": {
    "collapsed": true
   },
   "outputs": [],
   "source": [
    "songs = graph.run(\"match (x:XaudioUser)-[:LISTENS_TO]->(LIB) , (LIB)-[:HAS]->(s)  where x.user_id=98 return s \")\n",
    "print songs\n",
    "print len(songs.data())\n",
    "for song in songs:\n",
    "    print song[\"s\"]\n"
   ]
  },
  {
   "cell_type": "markdown",
   "metadata": {},
   "source": [
    "## Adding Playlist "
   ]
  },
  {
   "cell_type": "code",
   "execution_count": null,
   "metadata": {
    "collapsed": true
   },
   "outputs": [],
   "source": [
    "from py2neo import NodeSelector,Graph,Node,GraphDatabase ,Cursor, Relationship\n",
    "graph = Graph('http://127.0.0.1:7474/db/data',password='pass1234' , bolt=False)\n",
    "selector = NodeSelector(graph)\n",
    "# user_node = selector.select(\"XaudioUser\",fb_id='1076559979087038').first()"
   ]
  },
  {
   "cell_type": "code",
   "execution_count": null,
   "metadata": {
    "collapsed": true
   },
   "outputs": [],
   "source": [
    "playlist_node = graph.evaluate(\"match (x:XaudioUser)-[:MAINTAINS]->(PL) where x.user_id={user_id} return PL\",\n",
    "                              user_id=99)\n",
    "print dict(playlist_node)"
   ]
  },
  {
   "cell_type": "code",
   "execution_count": null,
   "metadata": {
    "collapsed": true
   },
   "outputs": [],
   "source": [
    "pl_node = Node(\"Playlist\",_label=\"playlist\")\n",
    "rel = Relationship(playlist_node,\"ADDED\",pl_node)\n",
    "graph.create(rel)"
   ]
  },
  {
   "cell_type": "code",
   "execution_count": null,
   "metadata": {
    "collapsed": true
   },
   "outputs": [],
   "source": []
  }
 ],
 "metadata": {
  "kernelspec": {
   "display_name": "Python 3",
   "language": "python",
   "name": "python3"
  },
  "language_info": {
   "codemirror_mode": {
    "name": "ipython",
    "version": 3
   },
   "file_extension": ".py",
   "mimetype": "text/x-python",
   "name": "python",
   "nbconvert_exporter": "python",
   "pygments_lexer": "ipython3",
   "version": "3.6.1"
  }
 },
 "nbformat": 4,
 "nbformat_minor": 1
}
